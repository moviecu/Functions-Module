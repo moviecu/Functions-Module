{
 "cells": [
  {
   "cell_type": "markdown",
   "metadata": {},
   "source": [
    "##### Q1. Which keyword is used to create a function? Create a function to return a list of odd numbers in the range of 1 to 25\n"
   ]
  },
  {
   "cell_type": "code",
   "execution_count": 2,
   "metadata": {},
   "outputs": [
    {
     "name": "stdout",
     "output_type": "stream",
     "text": [
      "[1, 3, 5, 7, 9, 11, 13, 15, 17, 19, 21, 23, 25]\n"
     ]
    }
   ],
   "source": [
    "# The keyword used to create a function in Python is def.\n",
    "def odd_numbers():\n",
    "    return[num for num in range(1,26)if num % 2 != 0]\n",
    "\n",
    "# Call the function\n",
    "result= odd_numbers()\n",
    "print(result)"
   ]
  },
  {
   "cell_type": "markdown",
   "metadata": {},
   "source": [
    "##### Q2. Why *args and **kwargs is used in some functions? Create a function each for *args and **kwargs to demonstrate their use.\n"
   ]
  },
  {
   "cell_type": "markdown",
   "metadata": {},
   "source": [
    "###### args and **kwargs are used in Python functions to handle variable-length arguments.\n",
    "\n",
    "###### *args allows you to pass a variable number of positional arguments to a function. These arguments are collected into a tuple within the function.\n",
    "###### **kwargs allows you to pass a variable number of keyword arguments (i.e., arguments specified with keywords) to a function. These arguments are collected into a dictionary within the function."
   ]
  },
  {
   "cell_type": "code",
   "execution_count": 2,
   "metadata": {},
   "outputs": [
    {
     "name": "stdout",
     "output_type": "stream",
     "text": [
      "51\n"
     ]
    }
   ],
   "source": [
    "# Function using *args\n",
    "def sum_of(*args):\n",
    "    sum= 0\n",
    "    for x in args:\n",
    "        sum += x\n",
    "    return sum\n",
    "\n",
    "print(sum_of(5,5,8,9,7,8,9))"
   ]
  },
  {
   "cell_type": "code",
   "execution_count": 4,
   "metadata": {},
   "outputs": [
    {
     "name": "stdout",
     "output_type": "stream",
     "text": [
      "10.53\n"
     ]
    }
   ],
   "source": [
    "# Function using **kwargs \n",
    "def display_info(**kwargs):\n",
    "    sum = 0\n",
    "    for k, v in kwargs.items():\n",
    "        sum += v\n",
    "    return round(sum,2)\n",
    "    \n",
    "print(display_info(Coffee= 2.99,cake=4.55,juice=2.99))\n"
   ]
  },
  {
   "cell_type": "markdown",
   "metadata": {},
   "source": [
    "##### Q3.  What is an iterator in python? Name the method used to initialise the iterator object and the method used for iteration. Use these methods to print the first five elements of the given list [2, 4, 6, 8, 10, 12, 14, 16, 18, 20]\n",
    " \n",
    " "
   ]
  },
  {
   "cell_type": "code",
   "execution_count": null,
   "metadata": {},
   "outputs": [],
   "source": [
    "# An iterator in Python is an object that represents a stream of data. It implements the iterator protocol, which consists of two methods: __iter__() and __next__().\n",
    "\n",
    "# The __iter__() method initializes the iterator object and returns it.\n",
    "# The __next__() method is called to retrieve the next item from the iterator. It raises a StopIteration exception when there are no more items to return."
   ]
  },
  {
   "cell_type": "code",
   "execution_count": 5,
   "metadata": {},
   "outputs": [
    {
     "name": "stdout",
     "output_type": "stream",
     "text": [
      "2\n",
      "4\n",
      "6\n",
      "8\n",
      "10\n"
     ]
    }
   ],
   "source": [
    "# Initialize the iterator object\n",
    "iter_obj = iter([2, 4, 6, 8, 10, 12, 14, 16, 18, 20])\n",
    "\n",
    "# Iterate through the first five elements using the next() function\n",
    "for _ in range(5):\n",
    "    print(next(iter_obj))\n"
   ]
  },
  {
   "cell_type": "markdown",
   "metadata": {},
   "source": [
    "#### Q4.  What is a generator function in python? Why yield keyword is used? Give an example of a generator function.\n"
   ]
  },
  {
   "cell_type": "markdown",
   "metadata": {},
   "source": [
    "A generator function in Python is a special type of function that allows you to generate a sequence of values lazily, one at a time, rather than storing them all in memory at once. Generator functions use the yield keyword to produce a series of values over multiple iterations, pausing execution and preserving the state of the function between calls.\n",
    "\n",
    "The yield keyword is used in generator functions to yield a value back to the caller without exiting the function. When the generator function is called, it returns a generator object, which can be iterated over using a loop or passed to functions that accept iterable objects.\n",
    "\n",
    "Here's an example of a generator function that generates a sequence of even numbers:"
   ]
  },
  {
   "cell_type": "code",
   "execution_count": 6,
   "metadata": {},
   "outputs": [
    {
     "name": "stdout",
     "output_type": "stream",
     "text": [
      "0\n",
      "2\n",
      "4\n",
      "6\n",
      "8\n"
     ]
    }
   ],
   "source": [
    "def even_numbers(n):\n",
    "    for i in range(n):\n",
    "        if i % 2 == 0:\n",
    "            yield i\n",
    "\n",
    "# Using the generator function\n",
    "even_nums_gen = even_numbers(10)\n",
    "\n",
    "# Iterating over the generator object\n",
    "for num in even_nums_gen:\n",
    "    print(num)\n"
   ]
  },
  {
   "cell_type": "markdown",
   "metadata": {},
   "source": [
    "#### Q5. Create a generator function for prime numbers less than 1000. Use the next() method to print the first 20 prime numbers\n"
   ]
  },
  {
   "cell_type": "code",
   "execution_count": 7,
   "metadata": {},
   "outputs": [
    {
     "name": "stdout",
     "output_type": "stream",
     "text": [
      "2\n",
      "3\n",
      "5\n",
      "7\n",
      "11\n",
      "13\n",
      "17\n",
      "19\n",
      "23\n",
      "29\n",
      "31\n",
      "37\n",
      "41\n",
      "43\n",
      "47\n",
      "53\n",
      "59\n",
      "61\n",
      "67\n",
      "71\n"
     ]
    }
   ],
   "source": [
    "def prime_generator():\n",
    "    # Define a function to check if a number is prime\n",
    "    def is_prime(num):\n",
    "        if num < 2:\n",
    "            return False\n",
    "        for i in range(2, int(num**0.5) + 1):\n",
    "            if num % i == 0:\n",
    "                return False\n",
    "        return True\n",
    "\n",
    "    # Generate prime numbers less than 1000\n",
    "    num = 2\n",
    "    while num < 1000:\n",
    "        if is_prime(num):\n",
    "            yield num\n",
    "        num += 1\n",
    "\n",
    "# Create a generator object for prime numbers\n",
    "prime_gen = prime_generator()\n",
    "\n",
    "# Use the next() method to print the first 20 prime numbers\n",
    "for _ in range(20):\n",
    "    print(next(prime_gen))\n"
   ]
  },
  {
   "cell_type": "markdown",
   "metadata": {},
   "source": [
    "####  Q6. Write a python program to print the first 10 Fibonacci numbers using a while loop"
   ]
  },
  {
   "cell_type": "code",
   "execution_count": 8,
   "metadata": {},
   "outputs": [
    {
     "name": "stdout",
     "output_type": "stream",
     "text": [
      "Fibonacci sequence:\n",
      "0\n",
      "1\n",
      "1\n",
      "2\n",
      "3\n",
      "5\n",
      "8\n",
      "13\n",
      "21\n",
      "34\n"
     ]
    }
   ],
   "source": [
    "# Function to print the first 10 Fibonacci numbers\n",
    "def print_first_10_fibonacci():\n",
    "    # Initialize variables for the first two Fibonacci numbers\n",
    "    a, b = 0, 1\n",
    "    count = 0\n",
    "\n",
    "    # Print the first two Fibonacci numbers\n",
    "    print(\"Fibonacci sequence:\")\n",
    "    print(a)\n",
    "    print(b)\n",
    "\n",
    "    # Loop to generate and print the remaining Fibonacci numbers\n",
    "    while count < 8:  # We already printed the first two numbers, so we need 8 more\n",
    "        # Compute the next Fibonacci number\n",
    "        next_num = a + b\n",
    "        # Print the next Fibonacci number\n",
    "        print(next_num)\n",
    "        # Update variables for the next iteration\n",
    "        a, b = b, next_num\n",
    "        # Increment the count\n",
    "        count += 1\n",
    "\n",
    "# Call the function to print the first 10 Fibonacci numbers\n",
    "print_first_10_fibonacci()\n"
   ]
  },
  {
   "cell_type": "markdown",
   "metadata": {},
   "source": [
    "#### Q7. Write a List Comprehension to iterate through the given string: ‘pwskills’. Expected output: ['p', 'w', 's', 'k', 'i', 'l', 'l', 's']\n",
    "\n"
   ]
  },
  {
   "cell_type": "code",
   "execution_count": 9,
   "metadata": {},
   "outputs": [
    {
     "name": "stdout",
     "output_type": "stream",
     "text": [
      "['p', 'w', 's', 'k', 'i', 'l', 'l', 's']\n"
     ]
    }
   ],
   "source": [
    "string = 'pwskills'\n",
    "\n",
    "# List comprehension to iterate through the string and create a list of characters\n",
    "result = [char for char in string]\n",
    "\n",
    "print(result)\n"
   ]
  },
  {
   "cell_type": "markdown",
   "metadata": {},
   "source": [
    "#### Q8. Write a python program to check whether a given number is Palindrome or not using a while loop"
   ]
  },
  {
   "cell_type": "code",
   "execution_count": 10,
   "metadata": {},
   "outputs": [
    {
     "name": "stdout",
     "output_type": "stream",
     "text": [
      "5 is a palindrome\n"
     ]
    }
   ],
   "source": [
    "def is_palindrome(num):\n",
    "    # Convert the number to a string to easily check for palindrome\n",
    "    num_str = str(num)\n",
    "    # Initialize pointers for the start and end of the string\n",
    "    start, end = 0, len(num_str) - 1\n",
    "    \n",
    "    # Loop until the pointers meet or cross each other\n",
    "    while start < end:\n",
    "        # Check if the characters at the current positions are equal\n",
    "        if num_str[start] != num_str[end]:\n",
    "            return False\n",
    "        # Move the pointers towards each other\n",
    "        start += 1\n",
    "        end -= 1\n",
    "    \n",
    "    # If the loop completes without returning False, the number is a palindrome\n",
    "    return True\n",
    "\n",
    "# Input number from the user\n",
    "num = int(input(\"Enter a number: \"))\n",
    "\n",
    "# Check if the number is a palindrome\n",
    "if is_palindrome(num):\n",
    "    print(f\"{num} is a palindrome\")\n",
    "else:\n",
    "    print(f\"{num} is not a palindrome\")\n"
   ]
  },
  {
   "cell_type": "markdown",
   "metadata": {},
   "source": [
    "#### Q9. Write a code to print odd numbers from 1 to 100 using list comprehension"
   ]
  },
  {
   "cell_type": "code",
   "execution_count": 11,
   "metadata": {},
   "outputs": [
    {
     "name": "stdout",
     "output_type": "stream",
     "text": [
      "[1, 3, 5, 7, 9, 11, 13, 15, 17, 19, 21, 23, 25, 27, 29, 31, 33, 35, 37, 39, 41, 43, 45, 47, 49, 51, 53, 55, 57, 59, 61, 63, 65, 67, 69, 71, 73, 75, 77, 79, 81, 83, 85, 87, 89, 91, 93, 95, 97, 99]\n"
     ]
    }
   ],
   "source": [
    "# List comprehension to generate numbers from 1 to 100\n",
    "numbers = [num for num in range(1, 101)]\n",
    "\n",
    "# List comprehension to filter out odd numbers\n",
    "odd_numbers = [num for num in numbers if num % 2 != 0]\n",
    "\n",
    "# Print the list of odd numbers\n",
    "print(odd_numbers)\n"
   ]
  },
  {
   "cell_type": "code",
   "execution_count": null,
   "metadata": {},
   "outputs": [],
   "source": []
  }
 ],
 "metadata": {
  "kernelspec": {
   "display_name": "Python 3",
   "language": "python",
   "name": "python3"
  },
  "language_info": {
   "codemirror_mode": {
    "name": "ipython",
    "version": 3
   },
   "file_extension": ".py",
   "mimetype": "text/x-python",
   "name": "python",
   "nbconvert_exporter": "python",
   "pygments_lexer": "ipython3",
   "version": "3.12.1"
  }
 },
 "nbformat": 4,
 "nbformat_minor": 2
}
